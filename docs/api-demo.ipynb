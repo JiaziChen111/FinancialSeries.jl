{
 "metadata": {
  "language": "Julia",
  "name": ""
 },
 "nbformat": 3,
 "nbformat_minor": 0,
 "worksheets": [
  {
   "cells": [
    {
     "cell_type": "code",
     "collapsed": false,
     "input": [
      "## FinancialSeries.jl api demo\n",
      "using MarketData"
     ],
     "language": "python",
     "metadata": {},
     "outputs": [],
     "prompt_number": 1
    },
    {
     "cell_type": "code",
     "collapsed": false,
     "input": [
      "#using FinancialSeries\n",
      "include(\"../src/FinancialSeries.jl\")"
     ],
     "language": "python",
     "metadata": {},
     "outputs": [
      {
       "output_type": "stream",
       "stream": "stderr",
       "text": [
        "Warning: replacing module FinancialSeries\n"
       ]
      }
     ],
     "prompt_number": 30
    },
    {
     "cell_type": "code",
     "collapsed": false,
     "input": [
      "# example stock from MarketData\n",
      "AAPL"
     ],
     "language": "python",
     "metadata": {},
     "outputs": [
      {
       "metadata": {},
       "output_type": "pyout",
       "prompt_number": 4,
       "text": [
        "8336x12 TimeArray{Float64,2,DataType} 1980-12-12 to 2013-12-31\n",
        "\n",
        "             Open      High      Low       Close     Volume          Ex-Dividend  Split Ratio  Adj. Open  Adj. High  Adj. Low  Adj. Close  Adj. Volume     \n",
        "1980-12-12 | 28.75     28.88     28.75     28.75     2093900         0.0          1            3.3766     3.3919     3.3766    3.3766      16751200        \n",
        "1980-12-15 | 27.38     27.38     27.25     27.25     785200          0.0          1            3.2157     3.2157     3.2004    3.2004      6281600         \n",
        "1980-12-16 | 25.38     25.38     25.25     25.25     472000          0.0          1            2.9808     2.9808     2.9655    2.9655      3776000         \n",
        "1980-12-17 | 25.88     26.0      25.88     25.88     385900          0.0          1            3.0395     3.0536     3.0395    3.0395      3087200         \n",
        "\u22ee\n",
        "2013-12-26 | 568.1     569.5     563.38    563.9     7286000         0.0          1            564.7392   566.1309   560.0471  560.564     7286000         \n",
        "2013-12-27 | 563.82    564.41    559.5     560.09    8067300         0.0          1            560.4845   561.071    556.1901  556.7766    8067300         \n",
        "2013-12-30 | 557.46    560.09    552.32    554.52    9058200         0.0          1            554.1621   556.7766   549.0525  551.2395    9058200         \n",
        "2013-12-31 | 554.17    561.28    554.0     561.02    7967300         0.0          1            550.8916   557.9595   550.7226  557.7011    7967300         \n"
       ]
      }
     ],
     "prompt_number": 4
    },
    {
     "cell_type": "code",
     "collapsed": false,
     "input": [
      "# construct financial time series\n",
      "Apple = TimeArray(AAPL.timestamp, AAPL.values, AAPL.colnames, FinancialSeries.Stock(FinancialSeries.Ticker(\"AAPL\")))"
     ],
     "language": "python",
     "metadata": {},
     "outputs": [
      {
       "metadata": {},
       "output_type": "pyout",
       "prompt_number": 31,
       "text": [
        "8336x12 FinancialTimeSeries for Stock, 1980-12-12 to 2013-12-31\n",
        "\n",
        "ticker:         AAPL\n",
        "currency:       USD\n",
        "tick:           0.01\n",
        "multiplier:     1.0\n",
        "\n",
        "             Open    High    Low     Close   Volume        Ex-Dividend  Split Ratio  Adj. Open  Adj. High  Adj. Low  Adj. Close  Adj. Volume   \n",
        "1980-12-12 | 28.75   28.88   28.75   28.75   2093900       0.0          1            3.38       3.39       3.38      3.38        16751200      \n",
        "1980-12-15 | 27.38   27.38   27.25   27.25   785200        0.0          1            3.22       3.22       3.2       3.2         6281600       \n",
        "1980-12-16 | 25.38   25.38   25.25   25.25   472000        0.0          1            2.98       2.98       2.97      2.97        3776000       \n",
        "1980-12-17 | 25.88   26.0    25.88   25.88   385900        0.0          1            3.04       3.05       3.04      3.04        3087200       \n",
        "\u22ee\n",
        "2013-12-26 | 568.1   569.5   563.38  563.9   7286000       0.0          1            564.74     566.13     560.05    560.56      7286000       \n",
        "2013-12-27 | 563.82  564.41  559.5   560.09  8067300       0.0          1            560.48     561.07     556.19    556.78      8067300       \n",
        "2013-12-30 | 557.46  560.09  552.32  554.52  9058200       0.0          1            554.16     556.78     549.05    551.24      9058200       \n",
        "2013-12-31 | 554.17  561.28  554.0   561.02  7967300       0.0          1            550.89     557.96     550.72    557.7       7967300       \n"
       ]
      }
     ],
     "prompt_number": 31
    },
    {
     "cell_type": "code",
     "collapsed": false,
     "input": [
      "typeof(Apple)"
     ],
     "language": "python",
     "metadata": {},
     "outputs": [
      {
       "metadata": {},
       "output_type": "pyout",
       "prompt_number": 19,
       "text": [
        "TimeArray{Float64,2,Stock} (constructor with 1 method)"
       ]
      }
     ],
     "prompt_number": 19
    },
    {
     "cell_type": "code",
     "collapsed": false,
     "input": [
      "Apple.meta"
     ],
     "language": "python",
     "metadata": {},
     "outputs": [
      {
       "metadata": {},
       "output_type": "pyout",
       "prompt_number": 6,
       "text": [
        "ticker:         AAPL\n",
        "currency:       USD\n",
        "tick:           0.01\n",
        "multiplier:     1.0\n"
       ]
      }
     ],
     "prompt_number": 6
    },
    {
     "cell_type": "code",
     "collapsed": false,
     "input": [
      "timestamp(Apple)"
     ],
     "language": "python",
     "metadata": {},
     "outputs": [
      {
       "metadata": {},
       "output_type": "pyout",
       "prompt_number": 7,
       "text": [
        "8336-element Array{Date,1}:\n",
        " 1980-12-12\n",
        " 1980-12-15\n",
        " 1980-12-16\n",
        " 1980-12-17\n",
        " 1980-12-18\n",
        " 1980-12-19\n",
        " 1980-12-22\n",
        " 1980-12-23\n",
        " 1980-12-24\n",
        " 1980-12-26\n",
        " 1980-12-29\n",
        " 1980-12-30\n",
        " 1980-12-31\n",
        " \u22ee         \n",
        " 2013-12-13\n",
        " 2013-12-16\n",
        " 2013-12-17\n",
        " 2013-12-18\n",
        " 2013-12-19\n",
        " 2013-12-20\n",
        " 2013-12-23\n",
        " 2013-12-24\n",
        " 2013-12-26\n",
        " 2013-12-27\n",
        " 2013-12-30\n",
        " 2013-12-31"
       ]
      }
     ],
     "prompt_number": 7
    },
    {
     "cell_type": "code",
     "collapsed": false,
     "input": [
      "Apple[\"Close\"]"
     ],
     "language": "python",
     "metadata": {},
     "outputs": [
      {
       "metadata": {},
       "output_type": "pyout",
       "prompt_number": 22,
       "text": [
        "8336x1 TimeArray{Float64,1,DataType} 1980-12-12 to 2013-12-31\n",
        "\n",
        "             Close     \n",
        "1980-12-12 | 28.75     \n",
        "1980-12-15 | 27.25     \n",
        "1980-12-16 | 25.25     \n",
        "1980-12-17 | 25.88     \n",
        "\u22ee\n",
        "2013-12-26 | 563.9     \n",
        "2013-12-27 | 560.09    \n",
        "2013-12-30 | 554.52    \n",
        "2013-12-31 | 561.02    \n"
       ]
      }
     ],
     "prompt_number": 22
    },
    {
     "cell_type": "code",
     "collapsed": false,
     "input": [
      "percentchange(Apple[\"Close\"], method=\"log\")"
     ],
     "language": "python",
     "metadata": {},
     "outputs": [
      {
       "metadata": {},
       "output_type": "pyout",
       "prompt_number": 23,
       "text": [
        "8335x1 TimeArray{Float64,1,DataType} 1980-12-15 to 2013-12-31\n",
        "\n",
        "             Close   \n",
        "1980-12-15 | -0.0536 \n",
        "1980-12-16 | -0.0762 \n",
        "1980-12-17 | 0.0246  \n",
        "1980-12-18 | 0.0282  \n",
        "\u22ee\n",
        "2013-12-26 | -0.0067 \n",
        "2013-12-27 | -0.0068 \n",
        "2013-12-30 | -0.01   \n",
        "2013-12-31 | 0.0117  \n"
       ]
      }
     ],
     "prompt_number": 23
    }
   ],
   "metadata": {}
  }
 ]
}