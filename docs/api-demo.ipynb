{
 "metadata": {
  "language": "Julia",
  "name": ""
 },
 "nbformat": 3,
 "nbformat_minor": 0,
 "worksheets": [
  {
   "cells": [
    {
     "cell_type": "code",
     "collapsed": false,
     "input": [
      "## FinancialSeries.jl api demo\n",
      "using MarketData"
     ],
     "language": "python",
     "metadata": {},
     "outputs": [],
     "prompt_number": 1
    },
    {
     "cell_type": "code",
     "collapsed": false,
     "input": [
      "#using FinancialSeries\n",
      "include(\"../src/FinancialSeries.jl\")"
     ],
     "language": "python",
     "metadata": {},
     "outputs": [
      {
       "output_type": "stream",
       "stream": "stderr",
       "text": [
        "Warning: replacing module FinancialSeries\n"
       ]
      }
     ],
     "prompt_number": 25
    },
    {
     "cell_type": "code",
     "collapsed": false,
     "input": [
      "# example stock from MarketData\n",
      "AAPL"
     ],
     "language": "python",
     "metadata": {},
     "outputs": [
      {
       "metadata": {},
       "output_type": "pyout",
       "prompt_number": 3,
       "text": [
        "8336x12 TimeArray{Float64,2} 1980-12-12 to 2013-12-31\n",
        "\n",
        "             Open    High    Low     Close   Volume        Ex-Dividend  Split Ratio  Adj. Open  Adj. High  Adj. Low  Adj. Close  Adj. Volume   \n",
        "1980-12-12 | 28.75   28.88   28.75   28.75   2.0939e6      0.0          1.0          3.38       3.39       3.38      3.38        1.67512e7     \n",
        "1980-12-15 | 27.38   27.38   27.25   27.25   785200.0      0.0          1.0          3.22       3.22       3.2       3.2         6.2816e6      \n",
        "1980-12-16 | 25.38   25.38   25.25   25.25   472000.0      0.0          1.0          2.98       2.98       2.97      2.97        3.776e6       \n",
        "1980-12-17 | 25.88   26.0    25.88   25.88   385900.0      0.0          1.0          3.04       3.05       3.04      3.04        3.0872e6      \n",
        "\u22ee\n",
        "2013-12-26 | 568.1   569.5   563.38  563.9   7.286e6       0.0          1.0          564.74     566.13     560.05    560.56      7.286e6       \n",
        "2013-12-27 | 563.82  564.41  559.5   560.09  8.0673e6      0.0          1.0          560.48     561.07     556.19    556.78      8.0673e6      \n",
        "2013-12-30 | 557.46  560.09  552.32  554.52  9.0582e6      0.0          1.0          554.16     556.78     549.05    551.24      9.0582e6      \n",
        "2013-12-31 | 554.17  561.28  554.0   561.02  7.9673e6      0.0          1.0          550.89     557.96     550.72    557.7       7.9673e6      \n"
       ]
      }
     ],
     "prompt_number": 3
    },
    {
     "cell_type": "code",
     "collapsed": false,
     "input": [
      "# construct financial time series\n",
      "aapl = FinancialSeries.FinancialTimeSeries(AAPL, FinancialSeries.Stock(FinancialSeries.Ticker(\"AAPL\")))"
     ],
     "language": "python",
     "metadata": {},
     "outputs": [
      {
       "metadata": {},
       "output_type": "pyout",
       "prompt_number": 20,
       "text": [
        "\n",
        "Financial time series for Stock\n",
        "\n",
        "ticker:         AAPL\n",
        "currency:       USD\n",
        "tick:           0.01\n",
        "multiplier:     1.0\n",
        "\n",
        "8336x12 TimeArray{Float64,2} 1980-12-12 to 2013-12-31\n",
        "\n",
        "             Open    High    Low     Close   Volume        Ex-Dividend  Split Ratio  Adj. Open  Adj. High  Adj. Low  Adj. Close  Adj. Volume   \n",
        "1980-12-12 | 28.75   28.88   28.75   28.75   2.0939e6      0.0          1.0          3.38       3.39       3.38      3.38        1.67512e7     \n",
        "1980-12-15 | 27.38   27.38   27.25   27.25   785200.0      0.0          1.0          3.22       3.22       3.2       3.2         6.2816e6      \n",
        "1980-12-16 | 25.38   25.38   25.25   25.25   472000.0      0.0          1.0          2.98       2.98       2.97      2.97        3.776e6       \n",
        "1980-12-17 | 25.88   26.0    25.88   25.88   385900.0      0.0          1.0          3.04       3.05       3.04      3.04        3.0872e6      \n",
        "\u22ee\n",
        "2013-12-26 | 568.1   569.5   563.38  563.9   7.286e6       0.0          1.0          564.74     566.13     560.05    560.56      7.286e6       \n",
        "2013-12-27 | 563.82  564.41  559.5   560.09  8.0673e6      0.0          1.0          560.48     561.07     556.19    556.78      8.0673e6      \n",
        "2013-12-30 | 557.46  560.09  552.32  554.52  9.0582e6      0.0          1.0          554.16     556.78     549.05    551.24      9.0582e6      \n",
        "2013-12-31 | 554.17  561.28  554.0   561.02  7.9673e6      0.0          1.0          550.89     557.96     550.72    557.7       7.9673e6      \n"
       ]
      }
     ],
     "prompt_number": 20
    },
    {
     "cell_type": "code",
     "collapsed": false,
     "input": [
      "FinancialSeries.colnames(aapl)"
     ],
     "language": "python",
     "metadata": {},
     "outputs": [
      {
       "ename": "LoadError",
       "evalue": "`colnames` has no method matching colnames(::FinancialTimeSeries{Float64,2,Stock})\nwhile loading In[30], in expression starting on line 1",
       "output_type": "pyerr",
       "traceback": [
        "`colnames` has no method matching colnames(::FinancialTimeSeries{Float64,2,Stock})\nwhile loading In[30], in expression starting on line 1",
        ""
       ]
      }
     ],
     "prompt_number": 30
    },
    {
     "cell_type": "code",
     "collapsed": false,
     "input": [
      "methods(FinancialSeries.colnames)"
     ],
     "language": "python",
     "metadata": {},
     "outputs": [
      {
       "html": [
        "1 method for generic function <b>colnames</b>:<ul><li> colnames<i>{T,N,M}</i>(fts::<b>FinancialTimeSeries{T,N,M}</b>) at <a href=\"file:///home/beaupavel/tiresearch/public/FinancialSeries/src/financialtimeseries.jl\" target=\"_blank\">/home/beaupavel/tiresearch/public/FinancialSeries/src/financialtimeseries.jl:40</a></ul>"
       ],
       "metadata": {},
       "output_type": "pyout",
       "prompt_number": 29,
       "text": [
        "# 1 method for generic function \"colnames\":\n",
        "colnames{T,N,M}(fts::FinancialTimeSeries{T,N,M}) at /home/beaupavel/tiresearch/public/FinancialSeries/src/financialtimeseries.jl:40"
       ]
      }
     ],
     "prompt_number": 29
    },
    {
     "cell_type": "code",
     "collapsed": false,
     "input": [
      "#percentchange(fts, method=\"log\")"
     ],
     "language": "python",
     "metadata": {},
     "outputs": []
    }
   ],
   "metadata": {}
  }
 ]
}